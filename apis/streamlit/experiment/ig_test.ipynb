{
 "cells": [
  {
   "cell_type": "code",
   "execution_count": null,
   "metadata": {},
   "outputs": [
    {
     "ename": "",
     "evalue": "",
     "output_type": "error",
     "traceback": [
      "\u001b[1;31mRunning cells with 'Python 3.8.13 ('mls')' requires ipykernel package.\n",
      "\u001b[1;31mRun the following command to install 'ipykernel' into the Python environment. \n",
      "\u001b[1;31mCommand: 'conda install -n mls ipykernel --update-deps --force-reinstall'"
     ]
    }
   ],
   "source": [
    "import instaloader\n",
    "from instaloader import Post\n",
    "from PIL import Image\n",
    "import requests\n",
    "from io import BytesIO\n",
    "import pandas as pd"
   ]
  },
  {
   "cell_type": "code",
   "execution_count": 2,
   "metadata": {},
   "outputs": [],
   "source": [
    "def load_image(url):\n",
    "    response = requests.get(url)\n",
    "    img = Image.open(BytesIO(response.content))\n",
    "    return img"
   ]
  },
  {
   "cell_type": "code",
   "execution_count": 3,
   "metadata": {},
   "outputs": [
    {
     "name": "stdout",
     "output_type": "stream",
     "text": [
      "Loaded session from /home/jupyter/.config/instaloader/session-ahvzn21.\n"
     ]
    }
   ],
   "source": [
    "USER = \"ahvzn21\"\n",
    "\n",
    "L = instaloader.Instaloader()\n",
    "L.load_session_from_file(USER)"
   ]
  },
  {
   "cell_type": "code",
   "execution_count": 60,
   "metadata": {},
   "outputs": [],
   "source": [
    "# https://www.instagram.com/p/CgUR7oaJZoK/\n",
    "SHORTCODE = \"CgRTPrNh8Cy\"\n",
    "post = Post.from_shortcode(L.context, SHORTCODE)"
   ]
  },
  {
   "cell_type": "code",
   "execution_count": 45,
   "metadata": {},
   "outputs": [],
   "source": [
    "# if post.mediacount == 1:\n",
    "#     img = load_image(post.url)\n",
    "# else:\n",
    "#     for sidecar in post.get_sidecar_nodes():\n",
    "#         # print(sidecar)\n",
    "#         # if not sidecar.is_video:\n",
    "#             # img = load_image(sidecar.display_url)\n",
    "        "
   ]
  },
  {
   "cell_type": "code",
   "execution_count": 50,
   "metadata": {},
   "outputs": [],
   "source": [
    "vid = requests.get(sidecar.video_url)\n",
    "video = BytesIO(vid.content)"
   ]
  },
  {
   "cell_type": "code",
   "execution_count": 48,
   "metadata": {},
   "outputs": [],
   "source": [
    "# comment_list = [com._asdict() for com in post.get_comments()]\n",
    "# for com in post.get_comments():\n",
    "    # cm_ = com._asdict()\n"
   ]
  },
  {
   "cell_type": "code",
   "execution_count": 63,
   "metadata": {},
   "outputs": [],
   "source": [
    "comment_list = [_._asdict() for _ in post.get_comments()]\n"
   ]
  },
  {
   "cell_type": "code",
   "execution_count": 64,
   "metadata": {},
   "outputs": [],
   "source": [
    "df = pd.DataFrame(comment_list)\n",
    "df[\"owner\"] = df['owner'].apply(lambda x: x.username)"
   ]
  },
  {
   "cell_type": "code",
   "execution_count": 65,
   "metadata": {},
   "outputs": [
    {
     "data": {
      "text/html": [
       "<div>\n",
       "<style scoped>\n",
       "    .dataframe tbody tr th:only-of-type {\n",
       "        vertical-align: middle;\n",
       "    }\n",
       "\n",
       "    .dataframe tbody tr th {\n",
       "        vertical-align: top;\n",
       "    }\n",
       "\n",
       "    .dataframe thead th {\n",
       "        text-align: right;\n",
       "    }\n",
       "</style>\n",
       "<table border=\"1\" class=\"dataframe\">\n",
       "  <thead>\n",
       "    <tr style=\"text-align: right;\">\n",
       "      <th></th>\n",
       "      <th>id</th>\n",
       "      <th>created_at_utc</th>\n",
       "      <th>text</th>\n",
       "      <th>owner</th>\n",
       "      <th>likes_count</th>\n",
       "    </tr>\n",
       "  </thead>\n",
       "  <tbody>\n",
       "    <tr>\n",
       "      <th>0</th>\n",
       "      <td>17953682257845977</td>\n",
       "      <td>2022-07-21 10:42:04</td>\n",
       "      <td>Kuning menggoda😍</td>\n",
       "      <td>matchamei</td>\n",
       "      <td>4</td>\n",
       "    </tr>\n",
       "    <tr>\n",
       "      <th>1</th>\n",
       "      <td>17939903612274778</td>\n",
       "      <td>2022-07-21 10:11:33</td>\n",
       "      <td>Will we see a Fischl new outfit cosplay in the...</td>\n",
       "      <td>sacrificanumera</td>\n",
       "      <td>3</td>\n",
       "    </tr>\n",
       "    <tr>\n",
       "      <th>2</th>\n",
       "      <td>17890511435668462</td>\n",
       "      <td>2022-07-21 10:11:45</td>\n",
       "      <td>#TeamNotif ce @punipun7 😍😍</td>\n",
       "      <td>heyitskevinchan</td>\n",
       "      <td>1</td>\n",
       "    </tr>\n",
       "    <tr>\n",
       "      <th>3</th>\n",
       "      <td>18017174077413742</td>\n",
       "      <td>2022-07-21 10:23:13</td>\n",
       "      <td>Kaaa Puni!! Always stay healthy yaa❤️🔥</td>\n",
       "      <td>rabriann_z</td>\n",
       "      <td>1</td>\n",
       "    </tr>\n",
       "    <tr>\n",
       "      <th>4</th>\n",
       "      <td>18316435453051647</td>\n",
       "      <td>2022-07-21 10:15:30</td>\n",
       "      <td>Puni kalo pesen wig dimana ?</td>\n",
       "      <td>lamoriel95</td>\n",
       "      <td>0</td>\n",
       "    </tr>\n",
       "    <tr>\n",
       "      <th>...</th>\n",
       "      <td>...</td>\n",
       "      <td>...</td>\n",
       "      <td>...</td>\n",
       "      <td>...</td>\n",
       "      <td>...</td>\n",
       "    </tr>\n",
       "    <tr>\n",
       "      <th>146</th>\n",
       "      <td>17952764101950762</td>\n",
       "      <td>2022-07-22 04:59:14</td>\n",
       "      <td>👍👍👍👍</td>\n",
       "      <td>mifta_yae</td>\n",
       "      <td>0</td>\n",
       "    </tr>\n",
       "    <tr>\n",
       "      <th>147</th>\n",
       "      <td>18167767921244119</td>\n",
       "      <td>2022-07-22 06:23:38</td>\n",
       "      <td>Info Mabar kak @punipun7 😍</td>\n",
       "      <td>h4fizh_rakha</td>\n",
       "      <td>0</td>\n",
       "    </tr>\n",
       "    <tr>\n",
       "      <th>148</th>\n",
       "      <td>18240651859113945</td>\n",
       "      <td>2022-07-22 09:01:41</td>\n",
       "      <td>Kawai @punipun7 :3</td>\n",
       "      <td>nu_kanaeruu.3</td>\n",
       "      <td>0</td>\n",
       "    </tr>\n",
       "    <tr>\n",
       "      <th>149</th>\n",
       "      <td>17927764877454347</td>\n",
       "      <td>2022-07-22 09:27:23</td>\n",
       "      <td>Ya Allah puni cantik banget.. Anggun banget..</td>\n",
       "      <td>aditya_alcatraz</td>\n",
       "      <td>0</td>\n",
       "    </tr>\n",
       "    <tr>\n",
       "      <th>150</th>\n",
       "      <td>17958764776820039</td>\n",
       "      <td>2022-07-22 12:03:46</td>\n",
       "      <td>🥺❤️</td>\n",
       "      <td>andif_mukhtar</td>\n",
       "      <td>0</td>\n",
       "    </tr>\n",
       "  </tbody>\n",
       "</table>\n",
       "<p>151 rows × 5 columns</p>\n",
       "</div>"
      ],
      "text/plain": [
       "                    id      created_at_utc  \\\n",
       "0    17953682257845977 2022-07-21 10:42:04   \n",
       "1    17939903612274778 2022-07-21 10:11:33   \n",
       "2    17890511435668462 2022-07-21 10:11:45   \n",
       "3    18017174077413742 2022-07-21 10:23:13   \n",
       "4    18316435453051647 2022-07-21 10:15:30   \n",
       "..                 ...                 ...   \n",
       "146  17952764101950762 2022-07-22 04:59:14   \n",
       "147  18167767921244119 2022-07-22 06:23:38   \n",
       "148  18240651859113945 2022-07-22 09:01:41   \n",
       "149  17927764877454347 2022-07-22 09:27:23   \n",
       "150  17958764776820039 2022-07-22 12:03:46   \n",
       "\n",
       "                                                  text            owner  \\\n",
       "0                                     Kuning menggoda😍        matchamei   \n",
       "1    Will we see a Fischl new outfit cosplay in the...  sacrificanumera   \n",
       "2                           #TeamNotif ce @punipun7 😍😍  heyitskevinchan   \n",
       "3               Kaaa Puni!! Always stay healthy yaa❤️🔥       rabriann_z   \n",
       "4                         Puni kalo pesen wig dimana ?       lamoriel95   \n",
       "..                                                 ...              ...   \n",
       "146                                               👍👍👍👍        mifta_yae   \n",
       "147                         Info Mabar kak @punipun7 😍     h4fizh_rakha   \n",
       "148                                 Kawai @punipun7 :3    nu_kanaeruu.3   \n",
       "149      Ya Allah puni cantik banget.. Anggun banget..  aditya_alcatraz   \n",
       "150                                                🥺❤️    andif_mukhtar   \n",
       "\n",
       "     likes_count  \n",
       "0              4  \n",
       "1              3  \n",
       "2              1  \n",
       "3              1  \n",
       "4              0  \n",
       "..           ...  \n",
       "146            0  \n",
       "147            0  \n",
       "148            0  \n",
       "149            0  \n",
       "150            0  \n",
       "\n",
       "[151 rows x 5 columns]"
      ]
     },
     "execution_count": 65,
     "metadata": {},
     "output_type": "execute_result"
    }
   ],
   "source": [
    "df = df[['id', 'created_at_utc', 'text', 'owner', 'likes_count']]\n",
    "df"
   ]
  },
  {
   "cell_type": "code",
   "execution_count": 36,
   "metadata": {},
   "outputs": [],
   "source": [
    "uu = \"https://www.instagram.com/p/CgUMgLfBqAU/\""
   ]
  },
  {
   "cell_type": "code",
   "execution_count": 44,
   "metadata": {},
   "outputs": [
    {
     "data": {
      "text/plain": [
       "8597"
      ]
     },
     "execution_count": 44,
     "metadata": {},
     "output_type": "execute_result"
    }
   ],
   "source": [
    "post.likes"
   ]
  },
  {
   "cell_type": "code",
   "execution_count": 23,
   "metadata": {},
   "outputs": [],
   "source": [
    "# for i in post.:\n",
    "#     print(i)"
   ]
  },
  {
   "cell_type": "code",
   "execution_count": null,
   "metadata": {},
   "outputs": [],
   "source": []
  }
 ],
 "metadata": {
  "kernelspec": {
   "display_name": "Python 3.8.13 ('mls')",
   "language": "python",
   "name": "python3"
  },
  "language_info": {
   "codemirror_mode": {
    "name": "ipython",
    "version": 3
   },
   "file_extension": ".py",
   "mimetype": "text/x-python",
   "name": "python",
   "nbconvert_exporter": "python",
   "pygments_lexer": "ipython3",
   "version": "3.8.13"
  },
  "orig_nbformat": 4,
  "vscode": {
   "interpreter": {
    "hash": "75938e8bf425848233b22eed3b25a245b193e64c55e0e80872b29af772191f97"
   }
  }
 },
 "nbformat": 4,
 "nbformat_minor": 2
}
